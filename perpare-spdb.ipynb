{
 "cells": [
  {
   "cell_type": "code",
   "execution_count": null,
   "id": "34ea4520",
   "metadata": {},
   "outputs": [],
   "source": [
    "import pandas as pd\n",
    "import numpy as np"
   ]
  },
  {
   "cell_type": "code",
   "execution_count": null,
   "id": "4a3ff1dd",
   "metadata": {},
   "outputs": [],
   "source": [
    "data=pd.read_excel('data/example.xlsx')"
   ]
  },
  {
   "cell_type": "code",
   "execution_count": null,
   "id": "580c674e",
   "metadata": {},
   "outputs": [],
   "source": [
    "data.head(5)"
   ]
  },
  {
   "cell_type": "code",
   "execution_count": null,
   "id": "74edba5b",
   "metadata": {},
   "outputs": [],
   "source": [
    "profix"
   ]
  },
  {
   "cell_type": "code",
   "execution_count": null,
   "id": "f397b109",
   "metadata": {},
   "outputs": [],
   "source": [
    "profix=list(data.columns[1:])\n",
    "df={'ref':[], 'hyp':[]}\n",
    "for i in range(len(data)):\n",
    "    for j in profix:\n",
    "        if type(data.loc[i,j])==float and np.isnan(data.loc[i,j]):\n",
    "            df['ref'].append(j+': '+data.loc[i,'mail_content_chn'])\n",
    "            df['hyp'].append('None')\n",
    "        elif type(data.loc[i,j])==str:\n",
    "            df['ref'].append(j+': '+data.loc[i,'mail_content_chn'])\n",
    "            df['hyp'].append(data.loc[i,j])\n"
   ]
  },
  {
   "cell_type": "code",
   "execution_count": null,
   "id": "cd6dd0a1",
   "metadata": {},
   "outputs": [],
   "source": [
    "res=pd.DataFrame(df)\n",
    "res.to_csv('data/cleaned.csv',index=False)"
   ]
  },
  {
   "cell_type": "code",
   "execution_count": null,
   "id": "b04ab42d",
   "metadata": {},
   "outputs": [],
   "source": [
    "from sklearn.model_selection import train_test_split\n",
    "\n",
    "data_train, data_test = train_test_split(res, test_size=0.2)\n",
    "data_train.to_csv('data/cleaned_train.csv',index=False)\n",
    "data_test.to_csv('data/cleaned_test.csv',index=False)"
   ]
  },
  {
   "cell_type": "code",
   "execution_count": null,
   "id": "6f85aa59",
   "metadata": {},
   "outputs": [],
   "source": [
    "data_test"
   ]
  }
 ],
 "metadata": {
  "kernelspec": {
   "display_name": "conda_pytorch_p38",
   "language": "python",
   "name": "conda_pytorch_p38"
  },
  "language_info": {
   "codemirror_mode": {
    "name": "ipython",
    "version": 3
   },
   "file_extension": ".py",
   "mimetype": "text/x-python",
   "name": "python",
   "nbconvert_exporter": "python",
   "pygments_lexer": "ipython3",
   "version": "3.8.12"
  }
 },
 "nbformat": 4,
 "nbformat_minor": 5
}
