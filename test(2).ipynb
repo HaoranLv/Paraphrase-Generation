{
 "cells": [
  {
   "cell_type": "code",
   "execution_count": 15,
   "id": "70a9dfc6",
   "metadata": {},
   "outputs": [],
   "source": [
    "import sagemaker\n",
    "import os\n",
    "\n",
    "from tqdm import tqdm\n",
    "from sagemaker.huggingface.model import HuggingFacePredictor\n",
    "sess = sagemaker.Session()\n",
    "role = sagemaker.get_execution_role()"
   ]
  },
  {
   "cell_type": "code",
   "execution_count": 4,
   "id": "390c93b0",
   "metadata": {},
   "outputs": [],
   "source": [
    "predictor=HuggingFacePredictor(\n",
    "    endpoint_name='huggingface-pytorch-inference-2022-04-06-09-35-08-888',\n",
    ")"
   ]
  },
  {
   "cell_type": "code",
   "execution_count": 6,
   "id": "5d0485d1",
   "metadata": {},
   "outputs": [
    {
     "data": {
      "text/plain": [
       "Index(['原句', '手动改写', 'SC改写', 'Quillbot改写'], dtype='object')"
      ]
     },
     "execution_count": 6,
     "metadata": {},
     "output_type": "execute_result"
    }
   ],
   "source": [
    "import pandas as pd\n",
    "data = pd.read_excel('./data/more_test.xlsx')\n",
    "data.columns"
   ]
  },
  {
   "cell_type": "code",
   "execution_count": 16,
   "id": "a8f9e11f",
   "metadata": {},
   "outputs": [
    {
     "name": "stdout",
     "output_type": "stream",
     "text": [
      "Low leval paraphrase:\n"
     ]
    },
    {
     "name": "stderr",
     "output_type": "stream",
     "text": [
      "100%|██████████| 167/167 [11:46<00:00,  4.23s/it]\n"
     ]
    },
    {
     "name": "stdout",
     "output_type": "stream",
     "text": [
      "Medium leval paraphrase:\n"
     ]
    },
    {
     "name": "stderr",
     "output_type": "stream",
     "text": [
      "100%|██████████| 167/167 [11:25<00:00,  4.10s/it]\n"
     ]
    },
    {
     "name": "stdout",
     "output_type": "stream",
     "text": [
      "High leval paraphrase:\n"
     ]
    },
    {
     "name": "stderr",
     "output_type": "stream",
     "text": [
      "100%|██████████| 167/167 [12:06<00:00,  4.35s/it]\n"
     ]
    }
   ],
   "source": [
    "profix=['Low leval paraphrase:','Medium leval paraphrase:','High leval paraphrase:']\n",
    "res={'Low leval paraphrase:':[], 'Medium leval paraphrase:':[], 'High leval paraphrase:':[]}\n",
    "for i in profix:\n",
    "    print(i)\n",
    "    for j in tqdm(range(len(data))):\n",
    "        out=predictor.predict({\n",
    "            'inputs': i+data.loc[j,'原句'],\n",
    "            \"parameters\": {\"max_length\": 256},\n",
    "        })\n",
    "        res[i].append(out[0]['generated_text'])"
   ]
  },
  {
   "cell_type": "code",
   "execution_count": 17,
   "id": "3a441519",
   "metadata": {},
   "outputs": [],
   "source": [
    "with open(\"outputs/more-ref.txt\",\"a+\") as f:\n",
    "     for i in range(len(data)):\n",
    "            f.write(data.loc[i,'原句'])\n",
    "            f.write('\\n')\n",
    "with open(\"outputs/more-quillbot.txt\",\"a+\") as f:\n",
    "     for i in range(len(data)):\n",
    "            f.write(data.loc[i,'Quillbot改写'])\n",
    "            f.write('\\n')\n",
    "with open(\"outputs/more-sc.txt\",\"a+\") as f:\n",
    "     for i in range(len(data)):\n",
    "            f.write(data.loc[i,'SC改写'])\n",
    "            f.write('\\n')\n",
    "with open(\"outputs/more-people.txt\",\"a+\") as f:\n",
    "     for i in range(len(data)):\n",
    "            f.write(data.loc[i,'手动改写'])\n",
    "            f.write('\\n')\n",
    "with open(\"outputs/more-t5-low.txt\",\"a+\") as f:\n",
    "     for i in range(len(data)):\n",
    "            f.write(res['Low leval paraphrase:'][i])\n",
    "            f.write('\\n')\n",
    "with open(\"outputs/more-t5-medium.txt\",\"a+\") as f:\n",
    "     for i in range(len(data)):\n",
    "            f.write(res['Medium leval paraphrase:'][i])\n",
    "            f.write('\\n')\n",
    "with open(\"outputs/more-t5-high.txt\",\"a+\") as f:\n",
    "     for i in range(len(data)):\n",
    "            f.write(res['High leval paraphrase:'][i])\n",
    "            f.write('\\n')\n"
   ]
  },
  {
   "cell_type": "code",
   "execution_count": null,
   "id": "2fe93b53",
   "metadata": {},
   "outputs": [],
   "source": [
    "!pip install git+https://github.com/Maluuba/nlg-eval.git@master\n",
    "!nlg-eval --setup"
   ]
  },
  {
   "cell_type": "code",
   "execution_count": 25,
   "id": "140048e4",
   "metadata": {},
   "outputs": [
    {
     "name": "stdout",
     "output_type": "stream",
     "text": [
      "Bleu_1: 0.370252\n",
      "Bleu_2: 0.267915\n",
      "Bleu_3: 0.206425\n",
      "Bleu_4: 0.162956\n",
      "METEOR: 0.260194\n",
      "ROUGE_L: 0.330744\n",
      "CIDEr: 1.115817\n",
      "SkipThoughtsCosineSimilarity: 0.828887\n",
      "EmbeddingAverageCosineSimilarity: 0.912593\n",
      "EmbeddingAverageCosineSimilairty: 0.912593\n",
      "VectorExtremaCosineSimilarity: 0.626925\n",
      "GreedyMatchingScore: 0.769654\n"
     ]
    },
    {
     "data": {
      "text/plain": [
       "{'Bleu_1': 0.37025215448440146,\n",
       " 'Bleu_2': 0.26791507195691455,\n",
       " 'Bleu_3': 0.20642478359330174,\n",
       " 'Bleu_4': 0.16295606204511567,\n",
       " 'METEOR': 0.2601943874979247,\n",
       " 'ROUGE_L': 0.33074430572482444,\n",
       " 'CIDEr': 1.115816690717915,\n",
       " 'SkipThoughtCS': 0.8288867,\n",
       " 'EmbeddingAverageCosineSimilarity': 0.912593,\n",
       " 'EmbeddingAverageCosineSimilairty': 0.912593,\n",
       " 'VectorExtremaCosineSimilarity': 0.626925,\n",
       " 'GreedyMatchingScore': 0.769654}"
      ]
     },
     "execution_count": 25,
     "metadata": {},
     "output_type": "execute_result"
    }
   ],
   "source": [
    "from nlgeval import compute_metrics\n",
    "metrics_dict = compute_metrics(hypothesis='outputs/more-t5-high.txt',\n",
    "                               references=['outputs/more-ref.txt'])\n",
    "metrics_dict"
   ]
  },
  {
   "cell_type": "code",
   "execution_count": null,
   "id": "1cb7edc6",
   "metadata": {},
   "outputs": [],
   "source": []
  },
  {
   "cell_type": "code",
   "execution_count": null,
   "id": "d0e77aec",
   "metadata": {},
   "outputs": [],
   "source": []
  }
 ],
 "metadata": {
  "kernelspec": {
   "display_name": "conda_pytorch_p38",
   "language": "python",
   "name": "conda_pytorch_p38"
  },
  "language_info": {
   "codemirror_mode": {
    "name": "ipython",
    "version": 3
   },
   "file_extension": ".py",
   "mimetype": "text/x-python",
   "name": "python",
   "nbconvert_exporter": "python",
   "pygments_lexer": "ipython3",
   "version": "3.8.12"
  }
 },
 "nbformat": 4,
 "nbformat_minor": 5
}
