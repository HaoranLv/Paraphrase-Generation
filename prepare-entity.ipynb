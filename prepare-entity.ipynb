{
 "cells": [
  {
   "cell_type": "markdown",
   "id": "18a25fd9",
   "metadata": {},
   "source": [
    "# 数据处理（加前缀）"
   ]
  },
  {
   "cell_type": "code",
   "execution_count": 3,
   "id": "52528f79",
   "metadata": {},
   "outputs": [
    {
     "name": "stdout",
     "output_type": "stream",
     "text": [
      "Looking in indexes: https://pypi.org/simple, https://pip.repos.neuron.amazonaws.com\n",
      "Collecting jsonlines\n",
      "  Downloading jsonlines-3.1.0-py3-none-any.whl (8.6 kB)\n",
      "Requirement already satisfied: attrs>=19.2.0 in /home/ec2-user/anaconda3/envs/pytorch_p38/lib/python3.8/site-packages (from jsonlines) (21.2.0)\n",
      "Installing collected packages: jsonlines\n",
      "Successfully installed jsonlines-3.1.0\n",
      "\u001b[33mWARNING: You are using pip version 22.0.4; however, version 22.3 is available.\n",
      "You should consider upgrading via the '/home/ec2-user/anaconda3/envs/pytorch_p38/bin/python -m pip install --upgrade pip' command.\u001b[0m\u001b[33m\n",
      "\u001b[0m"
     ]
    }
   ],
   "source": [
    "!pip install jsonlines"
   ]
  },
  {
   "cell_type": "code",
   "execution_count": 4,
   "id": "e34355fe",
   "metadata": {},
   "outputs": [],
   "source": [
    "import jsonlines\n",
    "import json"
   ]
  },
  {
   "cell_type": "code",
   "execution_count": 5,
   "id": "6d17dc2f",
   "metadata": {},
   "outputs": [
    {
     "data": {
      "text/plain": [
       "{'i bought this specifically for a 5 day vacation to colorado .': [{'text': '5 day vacation to colorado',\n",
       "   'start': 6,\n",
       "   'end': 10,\n",
       "   'prompt': 'Purpose'}]}"
      ]
     },
     "execution_count": 5,
     "metadata": {},
     "output_type": "execute_result"
    }
   ],
   "source": [
    "# zh2en={'B-场景-位置':'usage location', 'B-场景-用途':'application', 'B-场景-设备':'device', 'B-场景-人':'identity'}\n",
    "zh2en={'B-场景-Where':'Where', 'B-场景-Purpose':'Purpose', 'B-场景-Moment':'Moment', 'B-场景-Who':'Who'}\n",
    "en2sym={'Where':'LOU', 'Purpose':'PI', 'Moment':'TOU', 'Who':'TC'}\n",
    "hyp=[]\n",
    "ref=[]\n",
    "# en2sym={'usage location':'LOC', 'application':'USA', 'device':'DEV', 'identity':'IDE'}\n",
    "RES=[]\n",
    "num_dict={'B-场景-Where':0, 'B-场景-Purpose':0, 'B-场景-Moment':0, 'B-场景-Who':0}\n",
    "ii=0\n",
    "inp='dev'\n",
    "with jsonlines.open('../shulexv1/{}.jsonl'.format(inp)) as reader:\n",
    "    with open('./{}.txt'.format(inp),'w') as f:\n",
    "        for obj in reader:\n",
    "            res={' '.join([' ' if i =='\\n' else i for i in obj['tokens']]):[]}\n",
    "            for i in range(len(obj['tags'])):\n",
    "                if obj['tags'][i] in ['B-场景-Where', 'B-场景-Purpose', 'B-场景-Moment', 'B-场景-Who']:\n",
    "                    num_dict[obj['tags'][i]]+=1\n",
    "                    r={\"text\": obj['tokens'][i], \"start\": i, \"end\": None, 'prompt':zh2en[obj['tags'][i]]}\n",
    "                    i+=1\n",
    "                    while i<len(obj['tokens']) and obj['tags'][i] in ['I-场景-Where', 'I-场景-Purpose', 'I-场景-Moment', 'I-场景-Who']:\n",
    "                        r[\"text\"]=r[\"text\"]+' '+obj['tokens'][i]\n",
    "                        i+=1\n",
    "                    r['end']=i-1\n",
    "#                     ref.append(zh2en[obj['tags'][i]]+' : '+' '.join([' ' if i =='\\n' else i for i in obj['tokens']]))\n",
    "#                     hyp.append()\n",
    "                    res[' '.join([' ' if i =='\\n' else i for i in obj['tokens']])].append(r)\n",
    "#                     f.write(json.dumps({\"content\": ' '.join([' ' if i =='\\n' else i for i in obj['tokens']]), \"result_list\": [{\"text\": r['text'], \"start\": r['start'], \"end\": r['end']}], \"prompt\": r['prompt']}))\n",
    "# #                     f.write('{\"content\": {}, \"result_list\": [{\"text\": {}, \"start\": {}, \"end\": {}}], \"prompt\": {}}'.format(' '.join([' ' if i =='\\n' else i for i in obj['tokens']]),r['text'],r['start'],r['end'],r['prompt']))\n",
    "#                     f.write('\\n')\n",
    "            RES.append(res)\n",
    "#             ii+=1\n",
    "#             if ii==2:\n",
    "#                 break\n",
    "\n",
    "                \n",
    "RES[0]"
   ]
  },
  {
   "cell_type": "code",
   "execution_count": 6,
   "id": "8a0aff44",
   "metadata": {},
   "outputs": [],
   "source": [
    "for e in RES:\n",
    "    s = list(e.keys())[0]\n",
    "    e['sentence']=s\n",
    "    for en in en2sym.keys():\n",
    "        e[en]=[]\n",
    "    for j in e[s]:\n",
    "        e[j['prompt']].append(j['text'])"
   ]
  },
  {
   "cell_type": "code",
   "execution_count": 7,
   "id": "76c631cb",
   "metadata": {},
   "outputs": [
    {
     "data": {
      "text/plain": [
       "{'i bought this for home initially , and it worked so well that i bought it for work too .': [{'text': 'home',\n",
       "   'start': 4,\n",
       "   'end': 4,\n",
       "   'prompt': 'Purpose'},\n",
       "  {'text': 'work', 'start': 17, 'end': 17, 'prompt': 'Purpose'}],\n",
       " 'sentence': 'i bought this for home initially , and it worked so well that i bought it for work too .',\n",
       " 'Where': [],\n",
       " 'Purpose': ['home', 'work'],\n",
       " 'Moment': [],\n",
       " 'Who': []}"
      ]
     },
     "execution_count": 7,
     "metadata": {},
     "output_type": "execute_result"
    }
   ],
   "source": [
    "\n",
    "RES[1]"
   ]
  },
  {
   "cell_type": "code",
   "execution_count": 122,
   "id": "a94def7e",
   "metadata": {},
   "outputs": [],
   "source": [
    "hyp=[]\n",
    "ref=[]\n",
    "for e in RES:\n",
    "    for en in en2sym.keys():\n",
    "        ref.append(en+' : '+e['sentence'])\n",
    "        if len(e[en])>1:\n",
    "            hyp.append(en+\" are \"+' and '.join(e[en]))\n",
    "        else:\n",
    "            hyp.append(en+\" is \"+' '.join(e[en]) if len(e[en])>0 else en+\" is \"+'None')\n",
    "    "
   ]
  },
  {
   "cell_type": "code",
   "execution_count": 123,
   "id": "97e059e5",
   "metadata": {},
   "outputs": [],
   "source": [
    "data={'ref':ref, 'hyp':hyp}\n",
    "import pandas as pd\n",
    "df=pd.DataFrame(data)\n",
    "df=df.applymap(str)\n",
    "df.to_csv('data/shulexv2_{}.csv'.format(inp),index=False)"
   ]
  },
  {
   "cell_type": "code",
   "execution_count": null,
   "id": "e792eed0",
   "metadata": {},
   "outputs": [],
   "source": [
    "data['hyp']"
   ]
  },
  {
   "cell_type": "code",
   "execution_count": 95,
   "id": "43ddba76",
   "metadata": {},
   "outputs": [
    {
     "data": {
      "text/plain": [
       "\"device : it is in my shower and together with the teak stool , makes it feel like i 'm at a spa whenever i shower .\""
      ]
     },
     "execution_count": 95,
     "metadata": {},
     "output_type": "execute_result"
    }
   ],
   "source": [
    "import pandas as pd\n",
    "data = pd.read_csv('./data/shulex_dev.csv')\n",
    "data.loc[122,'ref']"
   ]
  }
 ],
 "metadata": {
  "kernelspec": {
   "display_name": "conda_pytorch_p38",
   "language": "python",
   "name": "conda_pytorch_p38"
  },
  "language_info": {
   "codemirror_mode": {
    "name": "ipython",
    "version": 3
   },
   "file_extension": ".py",
   "mimetype": "text/x-python",
   "name": "python",
   "nbconvert_exporter": "python",
   "pygments_lexer": "ipython3",
   "version": "3.8.12"
  }
 },
 "nbformat": 4,
 "nbformat_minor": 5
}
