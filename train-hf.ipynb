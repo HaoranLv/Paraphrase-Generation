{
 "cells": [
  {
   "cell_type": "markdown",
   "id": "eea9783c",
   "metadata": {},
   "source": [
    "# 权限配置"
   ]
  },
  {
   "cell_type": "code",
   "execution_count": null,
   "id": "267dc1d0",
   "metadata": {},
   "outputs": [],
   "source": [
    "import sagemaker\n",
    "import os\n",
    "sess = sagemaker.Session()\n",
    "role = sagemaker.get_execution_role()\n",
    "\n",
    "print(f\"sagemaker role arn: {role}\")\n",
    "print(f\"sagemaker bucket: {sess.default_bucket()}\")\n",
    "print(f\"sagemaker session region: {sess.boto_region_name}\")"
   ]
  },
  {
   "cell_type": "markdown",
   "id": "f9562b6a",
   "metadata": {},
   "source": [
    "# 数据准备"
   ]
  },
  {
   "cell_type": "code",
   "execution_count": 103,
   "id": "76ba8a7c",
   "metadata": {},
   "outputs": [
    {
     "data": {
      "text/plain": [
       "'s3://sagemaker-us-west-2-847380964353/datasets/ruanhua'"
      ]
     },
     "execution_count": 103,
     "metadata": {},
     "output_type": "execute_result"
    }
   ],
   "source": [
    "# dataset used\n",
    "dataset_name = 'ruanhua2'\n",
    "# s3 key prefix for the data\n",
    "s3_prefix = 'datasets/ruanhua'\n",
    "WORK_DIRECTORY = './data/'\n",
    "data_location = sess.upload_data(WORK_DIRECTORY, key_prefix=s3_prefix)\n",
    "data_location"
   ]
  },
  {
   "cell_type": "markdown",
   "id": "9e539a28",
   "metadata": {},
   "source": [
    "# 超参数定义"
   ]
  },
  {
   "cell_type": "code",
   "execution_count": 109,
   "id": "7e69e368",
   "metadata": {},
   "outputs": [],
   "source": [
    "from sagemaker.huggingface import HuggingFace\n",
    "\n",
    "\n",
    "# hyperparameters which are passed to the training job\n",
    "hyperparameters={'reference_column':'ref',\n",
    "                 'hypothesis_column':'hyp',\n",
    "                 'train_file':'/opt/ml/input/data/train/parasci_train.csv',\n",
    "                 'validation_file':'/opt/ml/input/data/test/parasci_val.csv',\n",
    "                 'output_dir':'/opt/ml/model',\n",
    "                 'do_train':True,\n",
    "                 'do_eval':True,\n",
    "                 'max_source_length': 128,\n",
    "                 'max_target_length': 128,\n",
    "                 'model_name_or_path': 't5-large',\n",
    "                 'learning_rate': 3e-4,\n",
    "                 'num_train_epochs': 50,\n",
    "                 'per_device_train_batch_size': 16,\n",
    "                 'gradient_accumulation_steps':2, \n",
    "                 'save_strategy':'epoch',\n",
    "                 'evaluation_strategy':'epoch',\n",
    "                 'save_total_limit':1,\n",
    "                 }\n",
    "distribution = {'smdistributed':{'dataparallel':{ 'enabled': True }}}\n",
    "# create the Estimator\n",
    "huggingface_estimator = HuggingFace(\n",
    "        entry_point='run_paraphrase.py',\n",
    "        source_dir='./scripts',\n",
    "        instance_type='ml.p3dn.24xlarge',\n",
    "        instance_count=1,\n",
    "        role=role,\n",
    "        max_run=24*60*60,\n",
    "        transformers_version='4.6',\n",
    "        pytorch_version='1.7',\n",
    "        py_version='py36',\n",
    "        hyperparameters = hyperparameters,\n",
    "        distribution=distribution\n",
    ")"
   ]
  },
  {
   "cell_type": "markdown",
   "id": "49032bf1",
   "metadata": {},
   "source": [
    "# 模型训练"
   ]
  },
  {
   "cell_type": "code",
   "execution_count": null,
   "id": "bcbc8dc2",
   "metadata": {},
   "outputs": [],
   "source": [
    "huggingface_estimator.fit(\n",
    "  {'train': data_location+'/parasci_train.csv',\n",
    "   'test': data_location+'/parasci_val.csv'}\n",
    ")"
   ]
  },
  {
   "cell_type": "markdown",
   "id": "c1a63dc2",
   "metadata": {},
   "source": [
    "# 模型加载&部署"
   ]
  },
  {
   "cell_type": "code",
   "execution_count": 6,
   "id": "c7cc6510",
   "metadata": {},
   "outputs": [],
   "source": [
    "from sagemaker.huggingface.model import HuggingFaceModel\n",
    "\n",
    "# create Hugging Face Model Class\n",
    "huggingface_model = HuggingFaceModel(\n",
    "#    env= {'HF_TASK':'text-generation'},\n",
    "   model_data=\"s3://sagemaker-us-west-2-847380964353/huggingface-pytorch-training-2022-03-30-02-45-50-596/output/model.tar.gz\",  # path to your trained SageMaker model\n",
    "   role=role,                                            # IAM role with permissions to create an endpoint\n",
    "   transformers_version=\"4.6\",                           # Transformers version used\n",
    "   pytorch_version=\"1.7\",                                # PyTorch version used\n",
    "   py_version='py36',                                    # Python version used\n",
    "    \n",
    ")"
   ]
  },
  {
   "cell_type": "code",
   "execution_count": 7,
   "id": "df990b67",
   "metadata": {},
   "outputs": [
    {
     "name": "stdout",
     "output_type": "stream",
     "text": [
      "---------!"
     ]
    }
   ],
   "source": [
    "predictor = huggingface_model.deploy(\n",
    "   initial_instance_count=1,\n",
    "   instance_type=\"ml.m5.2xlarge\"\n",
    ")"
   ]
  },
  {
   "cell_type": "markdown",
   "id": "fa506460",
   "metadata": {},
   "source": [
    "# endpoint调用"
   ]
  },
  {
   "cell_type": "code",
   "execution_count": 113,
   "id": "8326d113",
   "metadata": {},
   "outputs": [
    {
     "data": {
      "text/plain": [
       "[{'generated_text': 'it may be that we are afraid to write about it , because the assignment grade is so heavy that we fear doing poorly , or the topic is boring , but we know that it will be hard to write about anyway .'}]"
      ]
     },
     "execution_count": 113,
     "metadata": {},
     "output_type": "execute_result"
    }
   ],
   "source": [
    "out=predictor.predict({\n",
    "        'inputs': i+\"Part of why it’s so difficult to begin is that we are dreading the task--perhaps because we don’t know what we want to write about yet, the assignment grade is weighted heavily, we fear doing poorly, or the topic is boring.\",\n",
    "        \"parameters\": {\"max_length\": 256},\n",
    "})\n",
    "out"
   ]
  },
  {
   "cell_type": "code",
   "execution_count": 114,
   "id": "ee96520a",
   "metadata": {},
   "outputs": [
    {
     "name": "stdout",
     "output_type": "stream",
     "text": [
      "Low leval paraphrase:part of why it’s so difficult to begin is that we are dreading the task--perhaps because we don’t know what we want to write about yet, the assignment grade is weighted heavily , we fear doing poorly , or the topic is boring .\n",
      "Medium leval paraphrase:part of the difficulty is that we are intimidated by the task itself , because we know what we want to write about , the grade is heavy, we fear doing poorly , or the topic is boring .\n",
      "High leval paraphrase:it may be that we are afraid to write about it , because the assignment grade is so heavy that we fear doing poorly , or the topic is boring , but we know that it will be hard to write about anyway .\n"
     ]
    }
   ],
   "source": [
    "profix=['Low level paraphrase:','Medium level paraphrase:','High level paraphrase:']\n",
    "for i in profix:\n",
    "    out=predictor.predict({\n",
    "        'inputs': i+\"Part of why it’s so difficult to begin is that we are dreading the task--perhaps because we don’t know what we want to write about yet, the assignment grade is weighted heavily, we fear doing poorly, or the topic is boring.\",\n",
    "        \"parameters\": {\"max_length\": 256},\n",
    "    })\n",
    "#     print(out)\n",
    "    print(i+out[0]['generated_text'])\n"
   ]
  },
  {
   "cell_type": "markdown",
   "id": "55b16f34",
   "metadata": {},
   "source": [
    "# 本地训练"
   ]
  },
  {
   "cell_type": "code",
   "execution_count": null,
   "id": "8d5d2f43",
   "metadata": {},
   "outputs": [],
   "source": [
    "!python scripts/run_paraphrase.py \\\n",
    "    --model_name_or_path t5-small \\\n",
    "    --do_train \\\n",
    "    --do_eval \\\n",
    "    --train_file data/parasci_train.csv \\\n",
    "    --validation_file data/parasci_val.csv \\\n",
    "    --output_dir /tmp/tst-summarization \\\n",
    "    --overwrite_output_dir \\\n",
    "    --save_strategy 'epoch' \\\n",
    "    --reference_column 'ref' \\\n",
    "    --num_train_epochs 1 \\\n",
    "    --hypothesis_column 'hyp' \\\n",
    "    --max_source_length 128 \\\n",
    "    --output_dir models \\\n",
    "    --max_target_length 128 \\\n",
    "    --per_device_train_batch_size=4 \\\n",
    "    --per_device_eval_batch_size=4 \\\n",
    "    --predict_with_generate"
   ]
  },
  {
   "cell_type": "code",
   "execution_count": 7,
   "id": "4fa26ca0",
   "metadata": {},
   "outputs": [
    {
     "name": "stdout",
     "output_type": "stream",
     "text": [
      "Looking in indexes: https://pypi.org/simple, https://pip.repos.neuron.amazonaws.com\n",
      "Collecting datasets>=1.1.3\n",
      "  Downloading datasets-2.0.0-py3-none-any.whl (325 kB)\n",
      "\u001b[2K     \u001b[90m━━━━━━━━━━━━━━━━━━━━━━━━━━━━━━━━━━━━━━━\u001b[0m \u001b[32m325.5/325.5 KB\u001b[0m \u001b[31m4.0 MB/s\u001b[0m eta \u001b[36m0:00:00\u001b[0m00:01\u001b[0m\n",
      "\u001b[?25hRequirement already satisfied: sentencepiece!=0.1.92 in /home/ec2-user/.local/lib/python3.8/site-packages (from -r scripts/requirements.txt (line 2)) (0.1.96)\n",
      "Requirement already satisfied: protobuf in /home/ec2-user/anaconda3/envs/pytorch_p38/lib/python3.8/site-packages (from -r scripts/requirements.txt (line 3)) (3.19.4)\n",
      "Collecting rouge-score\n",
      "  Downloading rouge_score-0.0.4-py2.py3-none-any.whl (22 kB)\n",
      "Requirement already satisfied: nltk in /home/ec2-user/anaconda3/envs/pytorch_p38/lib/python3.8/site-packages (from -r scripts/requirements.txt (line 5)) (3.5)\n",
      "Collecting py7zr\n",
      "  Downloading py7zr-0.18.3-py3-none-any.whl (76 kB)\n",
      "\u001b[2K     \u001b[90m━━━━━━━━━━━━━━━━━━━━━━━━━━━━━━━━━━━━━━━━\u001b[0m \u001b[32m76.5/76.5 KB\u001b[0m \u001b[31m23.1 MB/s\u001b[0m eta \u001b[36m0:00:00\u001b[0m\n",
      "\u001b[?25hRequirement already satisfied: torch>=1.3 in /home/ec2-user/anaconda3/envs/pytorch_p38/lib/python3.8/site-packages (from -r scripts/requirements.txt (line 7)) (1.10.0)\n",
      "Requirement already satisfied: pyarrow>=5.0.0 in /home/ec2-user/anaconda3/envs/pytorch_p38/lib/python3.8/site-packages (from datasets>=1.1.3->-r scripts/requirements.txt (line 1)) (7.0.0)\n",
      "Requirement already satisfied: pandas in /home/ec2-user/anaconda3/envs/pytorch_p38/lib/python3.8/site-packages (from datasets>=1.1.3->-r scripts/requirements.txt (line 1)) (1.3.4)\n",
      "Requirement already satisfied: multiprocess in /home/ec2-user/anaconda3/envs/pytorch_p38/lib/python3.8/site-packages (from datasets>=1.1.3->-r scripts/requirements.txt (line 1)) (0.70.12.2)\n",
      "Collecting xxhash\n",
      "  Downloading xxhash-3.0.0-cp38-cp38-manylinux_2_17_x86_64.manylinux2014_x86_64.whl (212 kB)\n",
      "\u001b[2K     \u001b[90m━━━━━━━━━━━━━━━━━━━━━━━━━━━━━━━━━━━━━━\u001b[0m \u001b[32m212.1/212.1 KB\u001b[0m \u001b[31m48.0 MB/s\u001b[0m eta \u001b[36m0:00:00\u001b[0m\n",
      "\u001b[?25hCollecting responses<0.19\n",
      "  Downloading responses-0.18.0-py3-none-any.whl (38 kB)\n",
      "Requirement already satisfied: fsspec[http]>=2021.05.0 in /home/ec2-user/anaconda3/envs/pytorch_p38/lib/python3.8/site-packages (from datasets>=1.1.3->-r scripts/requirements.txt (line 1)) (2021.11.0)\n",
      "Requirement already satisfied: tqdm>=4.62.1 in /home/ec2-user/anaconda3/envs/pytorch_p38/lib/python3.8/site-packages (from datasets>=1.1.3->-r scripts/requirements.txt (line 1)) (4.62.3)\n",
      "Requirement already satisfied: packaging in /home/ec2-user/anaconda3/envs/pytorch_p38/lib/python3.8/site-packages (from datasets>=1.1.3->-r scripts/requirements.txt (line 1)) (21.3)\n",
      "Requirement already satisfied: numpy>=1.17 in /home/ec2-user/anaconda3/envs/pytorch_p38/lib/python3.8/site-packages (from datasets>=1.1.3->-r scripts/requirements.txt (line 1)) (1.21.2)\n",
      "Requirement already satisfied: dill in /home/ec2-user/anaconda3/envs/pytorch_p38/lib/python3.8/site-packages (from datasets>=1.1.3->-r scripts/requirements.txt (line 1)) (0.3.4)\n",
      "Requirement already satisfied: aiohttp in /home/ec2-user/anaconda3/envs/pytorch_p38/lib/python3.8/site-packages (from datasets>=1.1.3->-r scripts/requirements.txt (line 1)) (3.8.1)\n",
      "Requirement already satisfied: requests>=2.19.0 in /home/ec2-user/anaconda3/envs/pytorch_p38/lib/python3.8/site-packages (from datasets>=1.1.3->-r scripts/requirements.txt (line 1)) (2.26.0)\n",
      "Requirement already satisfied: huggingface-hub<1.0.0,>=0.1.0 in /home/ec2-user/anaconda3/envs/pytorch_p38/lib/python3.8/site-packages (from datasets>=1.1.3->-r scripts/requirements.txt (line 1)) (0.4.0)\n",
      "Requirement already satisfied: absl-py in /home/ec2-user/.local/lib/python3.8/site-packages (from rouge-score->-r scripts/requirements.txt (line 4)) (1.0.0)\n",
      "Requirement already satisfied: six>=1.14.0 in /home/ec2-user/anaconda3/envs/pytorch_p38/lib/python3.8/site-packages (from rouge-score->-r scripts/requirements.txt (line 4)) (1.16.0)\n",
      "Requirement already satisfied: click in /home/ec2-user/anaconda3/envs/pytorch_p38/lib/python3.8/site-packages (from nltk->-r scripts/requirements.txt (line 5)) (8.0.3)\n",
      "Requirement already satisfied: regex in /home/ec2-user/anaconda3/envs/pytorch_p38/lib/python3.8/site-packages (from nltk->-r scripts/requirements.txt (line 5)) (2021.11.10)\n",
      "Requirement already satisfied: joblib in /home/ec2-user/anaconda3/envs/pytorch_p38/lib/python3.8/site-packages (from nltk->-r scripts/requirements.txt (line 5)) (1.1.0)\n",
      "Collecting pyzstd>=0.14.4\n",
      "  Downloading pyzstd-0.15.2-cp38-cp38-manylinux_2_17_x86_64.manylinux2014_x86_64.whl (2.4 MB)\n",
      "\u001b[2K     \u001b[90m━━━━━━━━━━━━━━━━━━━━━━━━━━━━━━━━━━━━━━━━\u001b[0m \u001b[32m2.4/2.4 MB\u001b[0m \u001b[31m66.5 MB/s\u001b[0m eta \u001b[36m0:00:00\u001b[0m:00:01\u001b[0m\n",
      "\u001b[?25hCollecting multivolumefile>=0.2.3\n",
      "  Downloading multivolumefile-0.2.3-py3-none-any.whl (17 kB)\n",
      "Collecting zipfile-deflate64>=0.2.0\n",
      "  Downloading zipfile_deflate64-0.2.0-cp38-cp38-manylinux_2_17_x86_64.manylinux2014_x86_64.whl (44 kB)\n",
      "\u001b[2K     \u001b[90m━━━━━━━━━━━━━━━━━━━━━━━━━━━━━━━━━━━━━━━━\u001b[0m \u001b[32m44.1/44.1 KB\u001b[0m \u001b[31m12.7 MB/s\u001b[0m eta \u001b[36m0:00:00\u001b[0m\n",
      "\u001b[?25hCollecting brotli>=1.0.9\n",
      "  Downloading Brotli-1.0.9-cp38-cp38-manylinux1_x86_64.whl (357 kB)\n",
      "\u001b[2K     \u001b[90m━━━━━━━━━━━━━━━━━━━━━━━━━━━━━━━━━━━━━━\u001b[0m \u001b[32m357.2/357.2 KB\u001b[0m \u001b[31m55.2 MB/s\u001b[0m eta \u001b[36m0:00:00\u001b[0m\n",
      "\u001b[?25hCollecting pyppmd<0.19.0,>=0.18.1\n",
      "  Downloading pyppmd-0.18.1-cp38-cp38-manylinux_2_17_x86_64.manylinux2014_x86_64.whl (132 kB)\n",
      "\u001b[2K     \u001b[90m━━━━━━━━━━━━━━━━━━━━━━━━━━━━━━━━━━━━━━\u001b[0m \u001b[32m132.8/132.8 KB\u001b[0m \u001b[31m28.7 MB/s\u001b[0m eta \u001b[36m0:00:00\u001b[0m\n",
      "\u001b[?25hCollecting pycryptodomex>=3.6.6\n",
      "  Downloading pycryptodomex-3.14.1-cp35-abi3-manylinux2010_x86_64.whl (2.0 MB)\n",
      "\u001b[2K     \u001b[90m━━━━━━━━━━━━━━━━━━━━━━━━━━━━━━━━━━━━━━━━\u001b[0m \u001b[32m2.0/2.0 MB\u001b[0m \u001b[31m26.8 MB/s\u001b[0m eta \u001b[36m0:00:00\u001b[0m:00:01\u001b[0m\n",
      "\u001b[?25hRequirement already satisfied: texttable in /home/ec2-user/anaconda3/envs/pytorch_p38/lib/python3.8/site-packages (from py7zr->-r scripts/requirements.txt (line 6)) (1.6.4)\n",
      "Collecting pybcj>=0.5.0\n",
      "  Downloading pybcj-0.5.1-cp38-cp38-manylinux_2_17_x86_64.manylinux2014_x86_64.whl (58 kB)\n",
      "\u001b[2K     \u001b[90m━━━━━━━━━━━━━━━━━━━━━━━━━━━━━━━━━━━━━━━━\u001b[0m \u001b[32m58.1/58.1 KB\u001b[0m \u001b[31m10.9 MB/s\u001b[0m eta \u001b[36m0:00:00\u001b[0m\n",
      "\u001b[?25hRequirement already satisfied: typing_extensions in /home/ec2-user/anaconda3/envs/pytorch_p38/lib/python3.8/site-packages (from torch>=1.3->-r scripts/requirements.txt (line 7)) (4.0.0)\n",
      "Requirement already satisfied: filelock in /home/ec2-user/anaconda3/envs/pytorch_p38/lib/python3.8/site-packages (from huggingface-hub<1.0.0,>=0.1.0->datasets>=1.1.3->-r scripts/requirements.txt (line 1)) (3.4.0)\n",
      "Requirement already satisfied: pyyaml in /home/ec2-user/anaconda3/envs/pytorch_p38/lib/python3.8/site-packages (from huggingface-hub<1.0.0,>=0.1.0->datasets>=1.1.3->-r scripts/requirements.txt (line 1)) (5.4.1)\n",
      "Requirement already satisfied: pyparsing!=3.0.5,>=2.0.2 in /home/ec2-user/anaconda3/envs/pytorch_p38/lib/python3.8/site-packages (from packaging->datasets>=1.1.3->-r scripts/requirements.txt (line 1)) (3.0.6)\n",
      "Requirement already satisfied: certifi>=2017.4.17 in /home/ec2-user/anaconda3/envs/pytorch_p38/lib/python3.8/site-packages (from requests>=2.19.0->datasets>=1.1.3->-r scripts/requirements.txt (line 1)) (2021.10.8)\n",
      "Requirement already satisfied: charset-normalizer~=2.0.0 in /home/ec2-user/anaconda3/envs/pytorch_p38/lib/python3.8/site-packages (from requests>=2.19.0->datasets>=1.1.3->-r scripts/requirements.txt (line 1)) (2.0.7)\n",
      "Requirement already satisfied: idna<4,>=2.5 in /home/ec2-user/anaconda3/envs/pytorch_p38/lib/python3.8/site-packages (from requests>=2.19.0->datasets>=1.1.3->-r scripts/requirements.txt (line 1)) (3.1)\n",
      "Requirement already satisfied: urllib3<1.27,>=1.21.1 in /home/ec2-user/anaconda3/envs/pytorch_p38/lib/python3.8/site-packages (from requests>=2.19.0->datasets>=1.1.3->-r scripts/requirements.txt (line 1)) (1.26.8)\n",
      "Requirement already satisfied: multidict<7.0,>=4.5 in /home/ec2-user/anaconda3/envs/pytorch_p38/lib/python3.8/site-packages (from aiohttp->datasets>=1.1.3->-r scripts/requirements.txt (line 1)) (5.2.0)\n",
      "Requirement already satisfied: yarl<2.0,>=1.0 in /home/ec2-user/anaconda3/envs/pytorch_p38/lib/python3.8/site-packages (from aiohttp->datasets>=1.1.3->-r scripts/requirements.txt (line 1)) (1.7.2)\n",
      "Requirement already satisfied: async-timeout<5.0,>=4.0.0a3 in /home/ec2-user/anaconda3/envs/pytorch_p38/lib/python3.8/site-packages (from aiohttp->datasets>=1.1.3->-r scripts/requirements.txt (line 1)) (4.0.1)\n",
      "Requirement already satisfied: frozenlist>=1.1.1 in /home/ec2-user/anaconda3/envs/pytorch_p38/lib/python3.8/site-packages (from aiohttp->datasets>=1.1.3->-r scripts/requirements.txt (line 1)) (1.2.0)\n",
      "Requirement already satisfied: attrs>=17.3.0 in /home/ec2-user/anaconda3/envs/pytorch_p38/lib/python3.8/site-packages (from aiohttp->datasets>=1.1.3->-r scripts/requirements.txt (line 1)) (20.3.0)\n",
      "Requirement already satisfied: aiosignal>=1.1.2 in /home/ec2-user/anaconda3/envs/pytorch_p38/lib/python3.8/site-packages (from aiohttp->datasets>=1.1.3->-r scripts/requirements.txt (line 1)) (1.2.0)\n",
      "Requirement already satisfied: python-dateutil>=2.7.3 in /home/ec2-user/anaconda3/envs/pytorch_p38/lib/python3.8/site-packages (from pandas->datasets>=1.1.3->-r scripts/requirements.txt (line 1)) (2.8.2)\n",
      "Requirement already satisfied: pytz>=2017.3 in /home/ec2-user/anaconda3/envs/pytorch_p38/lib/python3.8/site-packages (from pandas->datasets>=1.1.3->-r scripts/requirements.txt (line 1)) (2021.3)\n",
      "Installing collected packages: brotli, zipfile-deflate64, xxhash, pyzstd, pyppmd, pycryptodomex, pybcj, multivolumefile, rouge-score, responses, py7zr, datasets\n",
      "Successfully installed brotli-1.0.9 datasets-2.0.0 multivolumefile-0.2.3 py7zr-0.18.3 pybcj-0.5.1 pycryptodomex-3.14.1 pyppmd-0.18.1 pyzstd-0.15.2 responses-0.18.0 rouge-score-0.0.4 xxhash-3.0.0 zipfile-deflate64-0.2.0\n"
     ]
    }
   ],
   "source": [
    "!pip install -r scripts/requirements.txt"
   ]
  },
  {
   "cell_type": "code",
   "execution_count": null,
   "id": "866c6a64",
   "metadata": {},
   "outputs": [],
   "source": []
  }
 ],
 "metadata": {
  "kernelspec": {
   "display_name": "conda_pytorch_p38",
   "language": "python",
   "name": "conda_pytorch_p38"
  },
  "language_info": {
   "codemirror_mode": {
    "name": "ipython",
    "version": 3
   },
   "file_extension": ".py",
   "mimetype": "text/x-python",
   "name": "python",
   "nbconvert_exporter": "python",
   "pygments_lexer": "ipython3",
   "version": "3.8.12"
  }
 },
 "nbformat": 4,
 "nbformat_minor": 5
}
