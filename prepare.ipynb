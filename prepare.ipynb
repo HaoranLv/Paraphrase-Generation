{
 "cells": [
  {
   "cell_type": "code",
   "execution_count": 1,
   "id": "627c6690",
   "metadata": {},
   "outputs": [
    {
     "ename": "ModuleNotFoundError",
     "evalue": "No module named 'pyter'",
     "output_type": "error",
     "traceback": [
      "\u001b[0;31m---------------------------------------------------------------------------\u001b[0m",
      "\u001b[0;31mModuleNotFoundError\u001b[0m                       Traceback (most recent call last)",
      "\u001b[0;32m/tmp/ipykernel_93481/39423417.py\u001b[0m in \u001b[0;36m<cell line: 6>\u001b[0;34m()\u001b[0m\n\u001b[1;32m      4\u001b[0m \u001b[0;32mimport\u001b[0m \u001b[0mcopy\u001b[0m\u001b[0;34m\u001b[0m\u001b[0;34m\u001b[0m\u001b[0m\n\u001b[1;32m      5\u001b[0m \u001b[0;32mimport\u001b[0m \u001b[0mos\u001b[0m\u001b[0;34m\u001b[0m\u001b[0;34m\u001b[0m\u001b[0m\n\u001b[0;32m----> 6\u001b[0;31m \u001b[0;32mimport\u001b[0m \u001b[0mpyter\u001b[0m\u001b[0;34m\u001b[0m\u001b[0;34m\u001b[0m\u001b[0m\n\u001b[0m\u001b[1;32m      7\u001b[0m \u001b[0;32mfrom\u001b[0m \u001b[0mtqdm\u001b[0m \u001b[0;32mimport\u001b[0m \u001b[0mtqdm\u001b[0m\u001b[0;34m\u001b[0m\u001b[0;34m\u001b[0m\u001b[0m\n",
      "\u001b[0;31mModuleNotFoundError\u001b[0m: No module named 'pyter'"
     ]
    }
   ],
   "source": [
    "import sys\n",
    "import argparse\n",
    "import codecs\n",
    "import copy\n",
    "import os\n",
    "import pyter\n",
    "from tqdm import tqdm"
   ]
  },
  {
   "cell_type": "code",
   "execution_count": 2,
   "id": "5cf8adb2",
   "metadata": {},
   "outputs": [],
   "source": [
    "acl_train_ref = open(\"ParaSCI/Data/ParaSCI-arXiv/train/train.src\")\n",
    "acl_train_hyp = open(\"ParaSCI/Data/ParaSCI-arXiv/train/train.tgt\")"
   ]
  },
  {
   "cell_type": "code",
   "execution_count": 3,
   "id": "d8a30133",
   "metadata": {},
   "outputs": [],
   "source": [
    "ref,hyp=[],[]\n",
    "# ref= acl_train_ref.readline()\n",
    "while acl_train_ref.readline():\n",
    "    line=acl_train_ref.readline()\n",
    "    ref.append(line.strip('\\n').split())\n",
    "while acl_train_hyp.readline():\n",
    "    line=acl_train_hyp.readline()\n",
    "    hyp.append(line.strip('\\n').split())"
   ]
  },
  {
   "cell_type": "code",
   "execution_count": 12,
   "id": "846dd2fb",
   "metadata": {},
   "outputs": [
    {
     "name": "stderr",
     "output_type": "stream",
     "text": [
      "100%|██████████| 154917/154917 [10:41<00:00, 241.32it/s]\n"
     ]
    }
   ],
   "source": [
    "res=[]\n",
    "for i in tqdm(range(len(ref))):\n",
    "    try:\n",
    "        res.append(pyter.ter(hyp[i], ref[i]))\n",
    "    except:\n",
    "        pass\n",
    "#     print(res)"
   ]
  },
  {
   "cell_type": "code",
   "execution_count": 5,
   "id": "3352e410",
   "metadata": {},
   "outputs": [
    {
     "data": {
      "text/plain": [
       "154917"
      ]
     },
     "execution_count": 5,
     "metadata": {},
     "output_type": "execute_result"
    }
   ],
   "source": [
    "len(hyp)\n",
    "# len(res)"
   ]
  },
  {
   "cell_type": "code",
   "execution_count": null,
   "id": "d83f54cd",
   "metadata": {},
   "outputs": [],
   "source": [
    "import matplotlib.pyplot  as plt\n",
    "plt.figure(figsize=(20, 8), dpi=100)\n",
    "\n",
    "bins = 'auto'\n",
    "\n",
    "plt.hist(res, bins)\n",
    "\n",
    "# 指定刻度的范围，以及步长\n",
    "# plt.xticks(list(range(min(res), max(res)))[::2])\n",
    "\n",
    "# plt.xlabel(\"电影时长大小\")\n",
    "# plt.ylabel(\"电影的数据量\")"
   ]
  },
  {
   "cell_type": "code",
   "execution_count": 22,
   "id": "bd093a29",
   "metadata": {},
   "outputs": [],
   "source": [
    "a=res.sort()"
   ]
  },
  {
   "cell_type": "code",
   "execution_count": 26,
   "id": "42f061d0",
   "metadata": {},
   "outputs": [
    {
     "data": {
      "text/plain": [
       "0.7894736842105263"
      ]
     },
     "execution_count": 26,
     "metadata": {},
     "output_type": "execute_result"
    }
   ],
   "source": [
    "res[len(res)*2//3]"
   ]
  },
  {
   "cell_type": "code",
   "execution_count": 29,
   "id": "6f87e054",
   "metadata": {},
   "outputs": [
    {
     "data": {
      "text/plain": [
       "'neural machine translation has significantly improved the quality of machine translation in recent years .'"
      ]
     },
     "execution_count": 29,
     "metadata": {},
     "output_type": "execute_result"
    }
   ],
   "source": [
    "' '.join(ref[0])"
   ]
  },
  {
   "cell_type": "code",
   "execution_count": 14,
   "id": "e6630f43",
   "metadata": {},
   "outputs": [
    {
     "name": "stderr",
     "output_type": "stream",
     "text": [
      "100%|██████████| 1840/1840 [00:05<00:00, 336.17it/s]\n"
     ]
    }
   ],
   "source": [
    "#low:0.55-0,medium:0.78-0.55,height:>0.78\n",
    "profix=['Low level paraphrase:','Medium level paraphrase:','High level paraphrase:']\n",
    "data={'ref':[], 'hyp':[]}\n",
    "arxiv_train_ref = open(\"ParaSCI/Data/ParaSCI-arXiv/val/val.tgt\")\n",
    "arxiv_train_hyp = open(\"ParaSCI/Data/ParaSCI-arXiv/val/val.src\")\n",
    "ref,hyp=[],[]\n",
    "# ref= acl_train_ref.readline()\n",
    "while arxiv_train_ref.readline():\n",
    "    line=arxiv_train_ref.readline()\n",
    "    ref.append(line.strip('\\n').split())\n",
    "while arxiv_train_hyp.readline():\n",
    "    line=arxiv_train_hyp.readline()\n",
    "    hyp.append(line.strip('\\n').split())\n",
    "res=[]\n",
    "for i in tqdm(range(len(ref))):\n",
    "    try:\n",
    "        ter=pyter.ter(hyp[i], ref[i])\n",
    "        res.append(ter)\n",
    "        if ter<=0.55:\n",
    "            data['ref'].append(profix[0]+' '.join(ref[i]))\n",
    "            data['hyp'].append(' '.join(hyp[i]))\n",
    "        elif ter>0.55 and ter<=0.78:\n",
    "            data['ref'].append(profix[1]+' '.join(ref[i]))\n",
    "            data['hyp'].append(' '.join(hyp[i]))\n",
    "        elif ter>0.78:\n",
    "            data['ref'].append(profix[2]+' '.join(ref[i]))\n",
    "            data['hyp'].append(' '.join(hyp[i]))\n",
    "    except:\n",
    "        pass\n",
    "# import pandas as pd\n",
    "# df=pd.DataFrame(data)\n",
    "# df"
   ]
  },
  {
   "cell_type": "code",
   "execution_count": 15,
   "id": "bcf20619",
   "metadata": {},
   "outputs": [
    {
     "data": {
      "text/html": [
       "<div>\n",
       "<style scoped>\n",
       "    .dataframe tbody tr th:only-of-type {\n",
       "        vertical-align: middle;\n",
       "    }\n",
       "\n",
       "    .dataframe tbody tr th {\n",
       "        vertical-align: top;\n",
       "    }\n",
       "\n",
       "    .dataframe thead th {\n",
       "        text-align: right;\n",
       "    }\n",
       "</style>\n",
       "<table border=\"1\" class=\"dataframe\">\n",
       "  <thead>\n",
       "    <tr style=\"text-align: right;\">\n",
       "      <th></th>\n",
       "      <th>ref</th>\n",
       "      <th>hyp</th>\n",
       "    </tr>\n",
       "  </thead>\n",
       "  <tbody>\n",
       "    <tr>\n",
       "      <th>0</th>\n",
       "      <td>High leval paraphrase:so the discrepancy is th...</td>\n",
       "      <td>this discrepancy is indeed of is the order 50 .</td>\n",
       "    </tr>\n",
       "    <tr>\n",
       "      <th>1</th>\n",
       "      <td>Medium leval paraphrase:all calculations were ...</td>\n",
       "      <td>the calculations were performed using density ...</td>\n",
       "    </tr>\n",
       "    <tr>\n",
       "      <th>2</th>\n",
       "      <td>Medium leval paraphrase:diameter is the averag...</td>\n",
       "      <td>the diameter is the maximum length of shortest...</td>\n",
       "    </tr>\n",
       "    <tr>\n",
       "      <th>3</th>\n",
       "      <td>Medium leval paraphrase:the bottom panels show...</td>\n",
       "      <td>the top panels show the scattering mean free p...</td>\n",
       "    </tr>\n",
       "    <tr>\n",
       "      <th>4</th>\n",
       "      <td>Low leval paraphrase:an even order symmetric t...</td>\n",
       "      <td>it was shown that an even order symmetric tens...</td>\n",
       "    </tr>\n",
       "  </tbody>\n",
       "</table>\n",
       "</div>"
      ],
      "text/plain": [
       "                                                 ref  \\\n",
       "0  High leval paraphrase:so the discrepancy is th...   \n",
       "1  Medium leval paraphrase:all calculations were ...   \n",
       "2  Medium leval paraphrase:diameter is the averag...   \n",
       "3  Medium leval paraphrase:the bottom panels show...   \n",
       "4  Low leval paraphrase:an even order symmetric t...   \n",
       "\n",
       "                                                 hyp  \n",
       "0    this discrepancy is indeed of is the order 50 .  \n",
       "1  the calculations were performed using density ...  \n",
       "2  the diameter is the maximum length of shortest...  \n",
       "3  the top panels show the scattering mean free p...  \n",
       "4  it was shown that an even order symmetric tens...  "
      ]
     },
     "execution_count": 15,
     "metadata": {},
     "output_type": "execute_result"
    }
   ],
   "source": [
    "import pandas as pd\n",
    "df=pd.DataFrame(data)\n",
    "df.head()"
   ]
  },
  {
   "cell_type": "code",
   "execution_count": 16,
   "id": "ec3ac3d4",
   "metadata": {},
   "outputs": [],
   "source": [
    "df.to_csv('data/parasci_val.csv',index=False)"
   ]
  },
  {
   "cell_type": "code",
   "execution_count": null,
   "id": "b8a4a5b4",
   "metadata": {},
   "outputs": [],
   "source": []
  }
 ],
 "metadata": {
  "kernelspec": {
   "display_name": "conda_pytorch_p38",
   "language": "python",
   "name": "conda_pytorch_p38"
  },
  "language_info": {
   "codemirror_mode": {
    "name": "ipython",
    "version": 3
   },
   "file_extension": ".py",
   "mimetype": "text/x-python",
   "name": "python",
   "nbconvert_exporter": "python",
   "pygments_lexer": "ipython3",
   "version": "3.8.12"
  }
 },
 "nbformat": 4,
 "nbformat_minor": 5
}
