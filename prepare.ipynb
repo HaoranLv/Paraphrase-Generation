{
 "cells": [
  {
   "cell_type": "markdown",
   "id": "79c4379a",
   "metadata": {},
   "source": [
    "# 依赖安装 & 数据下载"
   ]
  },
  {
   "cell_type": "code",
   "execution_count": 1,
   "id": "1076e0fd",
   "metadata": {},
   "outputs": [
    {
     "name": "stdout",
     "output_type": "stream",
     "text": [
      "\u001b[33mDEPRECATION: Python 2.7 reached the end of its life on January 1st, 2020. Please upgrade your Python as Python 2.7 is no longer maintained. pip 21.0 will drop support for Python 2.7 in January 2021. More details about Python 2 support in pip can be found at https://pip.pypa.io/en/latest/development/release-process/#python-2-support pip 21.0 will remove support for this functionality.\u001b[0m\n",
      "Processing /home/ec2-user/.cache/pip/wheels/a8/90/86/5b2d83cd2c24829440b137d762fc0d77b461e7156f8695b34e/pyter-0.2.2.1-py2-none-any.whl\n",
      "Processing /home/ec2-user/.cache/pip/wheels/32/5b/7e/0df53aa8e264a6fe40fe7a3f9f0a63e2437cc276ae5b7e357e/distribute-0.7.3-py2-none-any.whl\n",
      "Requirement already satisfied: setuptools>=0.7 in /home/ec2-user/anaconda3/envs/python2/lib/python2.7/site-packages (from distribute->pyter) (41.4.0)\n",
      "Installing collected packages: distribute, pyter\n",
      "Successfully installed distribute-0.7.3 pyter-0.2.2.1\n",
      "Cloning into 'ParaSCI'...\n",
      "remote: Enumerating objects: 67, done.\u001b[K\n",
      "remote: Counting objects: 100% (67/67), done.\u001b[K\n",
      "remote: Compressing objects: 100% (57/57), done.\u001b[K\n",
      "remote: Total 67 (delta 13), reused 26 (delta 6), pack-reused 0\u001b[K\n",
      "Unpacking objects: 100% (67/67), done.\n"
     ]
    }
   ],
   "source": [
    "!pip install pyter\n",
    "!git clone https://github.com/dqxiu/ParaSCI.git"
   ]
  },
  {
   "cell_type": "markdown",
   "id": "b569b79e",
   "metadata": {},
   "source": [
    "# 加载数据"
   ]
  },
  {
   "cell_type": "code",
   "execution_count": 8,
   "id": "f71b9282",
   "metadata": {},
   "outputs": [],
   "source": [
    "import sys\n",
    "import argparse\n",
    "import codecs\n",
    "import copy\n",
    "import os\n",
    "import pyter\n",
    "from tqdm import tqdm"
   ]
  },
  {
   "cell_type": "code",
   "execution_count": 9,
   "id": "3f447158",
   "metadata": {},
   "outputs": [],
   "source": [
    "acl_train_ref = open(\"ParaSCI/Data/ParaSCI-arXiv/train/train.src\")\n",
    "acl_train_hyp = open(\"ParaSCI/Data/ParaSCI-arXiv/train/train.tgt\")"
   ]
  },
  {
   "cell_type": "code",
   "execution_count": 10,
   "id": "6f3655be",
   "metadata": {},
   "outputs": [],
   "source": [
    "ref,hyp=[],[]\n",
    "while acl_train_ref.readline():\n",
    "    line=acl_train_ref.readline()\n",
    "    ref.append(line.strip('\\n').split())\n",
    "while acl_train_hyp.readline():\n",
    "    line=acl_train_hyp.readline()\n",
    "    hyp.append(line.strip('\\n').split())\n",
    "ref,hyp =ref[:1000],hyp[:1000] # 时间原因这里只取前1000条进行训练"
   ]
  },
  {
   "cell_type": "markdown",
   "id": "17d77310",
   "metadata": {},
   "source": [
    "# TER计算"
   ]
  },
  {
   "cell_type": "code",
   "execution_count": 12,
   "id": "fc19cf6c",
   "metadata": {},
   "outputs": [
    {
     "name": "stderr",
     "output_type": "stream",
     "text": [
      "100%|██████████| 1000/1000 [00:04<00:00, 237.83it/s]\n"
     ]
    }
   ],
   "source": [
    "res=[]\n",
    "for i in tqdm(range(len(ref))):\n",
    "    try:\n",
    "        res.append(pyter.ter(hyp[i], ref[i]))\n",
    "    except:\n",
    "        pass"
   ]
  },
  {
   "cell_type": "code",
   "execution_count": 23,
   "id": "d325a65c",
   "metadata": {},
   "outputs": [
    {
     "data": {
      "image/png": "[encoded data removed]",
      "text/plain": [
       "<Figure size 2000x800 with 1 Axes>"
      ]
     },
     "metadata": {
      "needs_background": "light"
     },
     "output_type": "display_data"
    }
   ],
   "source": [
    "import matplotlib.pyplot  as plt\n",
    "plt.figure(figsize=(20, 8), dpi=100)\n",
    "\n",
    "bins = 'auto'\n",
    "\n",
    "plt.hist(res, bins)\n",
    "plt.show()"
   ]
  },
  {
   "cell_type": "markdown",
   "id": "b9039127",
   "metadata": {},
   "source": [
    "# 数据处理（加前缀）"
   ]
  },
  {
   "cell_type": "code",
   "execution_count": 29,
   "id": "909cf188",
   "metadata": {},
   "outputs": [
    {
     "name": "stderr",
     "output_type": "stream",
     "text": [
      "100%|██████████| 1000/1000 [00:04<00:00, 220.94it/s]\n"
     ]
    }
   ],
   "source": [
    "#low:0.55-0.1,medium:0.78-0.55,height:>0.78\n",
    "profix=['Low level paraphrase:','Medium level paraphrase:','High level paraphrase:']\n",
    "data={'ref':[], 'hyp':[]}\n",
    "arxiv_train_ref = open(\"ParaSCI/Data/ParaSCI-arXiv/train/train.tgt\")\n",
    "arxiv_train_hyp = open(\"ParaSCI/Data/ParaSCI-arXiv/train/train.src\")\n",
    "ref,hyp=[],[]\n",
    "# ref= acl_train_ref.readline()\n",
    "while arxiv_train_ref.readline():\n",
    "    line=arxiv_train_ref.readline()\n",
    "    ref.append(line.strip('\\n').split())\n",
    "while arxiv_train_hyp.readline():\n",
    "    line=arxiv_train_hyp.readline()\n",
    "    hyp.append(line.strip('\\n').split())\n",
    "ref,hyp =ref[:1000],hyp[:1000] # 时间原因这里只取前1000条进行训练\n",
    "res=[]\n",
    "for i in tqdm(range(len(ref))):\n",
    "    try:\n",
    "        ter=pyter.ter(hyp[i], ref[i])\n",
    "        res.append(ter)\n",
    "        if ter<=0.55 and ter>0.1:\n",
    "            data['ref'].append(profix[0]+' '.join(ref[i]))\n",
    "            data['hyp'].append(' '.join(hyp[i]))\n",
    "        elif ter>0.55 and ter<=0.78:\n",
    "            data['ref'].append(profix[1]+' '.join(ref[i]))\n",
    "            data['hyp'].append(' '.join(hyp[i]))\n",
    "        elif ter>0.78:\n",
    "            data['ref'].append(profix[2]+' '.join(ref[i]))\n",
    "            data['hyp'].append(' '.join(hyp[i]))\n",
    "    except:\n",
    "        pass\n",
    "import pandas as pd\n",
    "df=pd.DataFrame(data)\n",
    "if not os.path.exists('data'):\n",
    "    os.makedirs('data')\n",
    "df.to_csv('data/parasci_train.csv',index=False)"
   ]
  },
  {
   "cell_type": "code",
   "execution_count": 30,
   "id": "44291498",
   "metadata": {},
   "outputs": [
    {
     "name": "stderr",
     "output_type": "stream",
     "text": [
      "100%|██████████| 200/200 [00:00<00:00, 355.04it/s]\n"
     ]
    }
   ],
   "source": [
    "#low:0.55-0.1,medium:0.78-0.55,height:>0.78\n",
    "profix=['Low level paraphrase:','Medium level paraphrase:','High level paraphrase:']\n",
    "data={'ref':[], 'hyp':[]}\n",
    "arxiv_train_ref = open(\"ParaSCI/Data/ParaSCI-arXiv/val/val.tgt\")\n",
    "arxiv_train_hyp = open(\"ParaSCI/Data/ParaSCI-arXiv/val/val.src\")\n",
    "ref,hyp=[],[]\n",
    "# ref= acl_train_ref.readline()\n",
    "while arxiv_train_ref.readline():\n",
    "    line=arxiv_train_ref.readline()\n",
    "    ref.append(line.strip('\\n').split())\n",
    "while arxiv_train_hyp.readline():\n",
    "    line=arxiv_train_hyp.readline()\n",
    "    hyp.append(line.strip('\\n').split())\n",
    "ref,hyp =ref[:200],hyp[:200] # 时间原因这里只取前200条进行测试\n",
    "res=[]\n",
    "for i in tqdm(range(len(ref))):\n",
    "    try:\n",
    "        ter=pyter.ter(hyp[i], ref[i])\n",
    "        res.append(ter)\n",
    "        if ter<=0.55 and ter>0.1:\n",
    "            data['ref'].append(profix[0]+' '.join(ref[i]))\n",
    "            data['hyp'].append(' '.join(hyp[i]))\n",
    "        elif ter>0.55 and ter<=0.78:\n",
    "            data['ref'].append(profix[1]+' '.join(ref[i]))\n",
    "            data['hyp'].append(' '.join(hyp[i]))\n",
    "        elif ter>0.78:\n",
    "            data['ref'].append(profix[2]+' '.join(ref[i]))\n",
    "            data['hyp'].append(' '.join(hyp[i]))\n",
    "    except:\n",
    "        pass\n",
    "import pandas as pd\n",
    "df=pd.DataFrame(data)\n",
    "df.to_csv('data/parasci_val.csv',index=False)"
   ]
  },
  {
   "cell_type": "code",
   "execution_count": 31,
   "id": "80f29655",
   "metadata": {},
   "outputs": [
    {
     "data": {
      "text/html": [
       "<div>\n",
       "<style scoped>\n",
       "    .dataframe tbody tr th:only-of-type {\n",
       "        vertical-align: middle;\n",
       "    }\n",
       "\n",
       "    .dataframe tbody tr th {\n",
       "        vertical-align: top;\n",
       "    }\n",
       "\n",
       "    .dataframe thead th {\n",
       "        text-align: right;\n",
       "    }\n",
       "</style>\n",
       "<table border=\"1\" class=\"dataframe\">\n",
       "  <thead>\n",
       "    <tr style=\"text-align: right;\">\n",
       "      <th></th>\n",
       "      <th>hyp</th>\n",
       "      <th>ref</th>\n",
       "    </tr>\n",
       "  </thead>\n",
       "  <tbody>\n",
       "    <tr>\n",
       "      <th>0</th>\n",
       "      <td>this discrepancy is indeed of is the order 50 .</td>\n",
       "      <td>High level paraphrase:so the discrepancy is th...</td>\n",
       "    </tr>\n",
       "    <tr>\n",
       "      <th>1</th>\n",
       "      <td>the calculations were performed using density ...</td>\n",
       "      <td>Medium level paraphrase:all calculations were ...</td>\n",
       "    </tr>\n",
       "    <tr>\n",
       "      <th>2</th>\n",
       "      <td>the diameter is the maximum length of shortest...</td>\n",
       "      <td>Medium level paraphrase:diameter is the averag...</td>\n",
       "    </tr>\n",
       "    <tr>\n",
       "      <th>3</th>\n",
       "      <td>the top panels show the scattering mean free p...</td>\n",
       "      <td>Medium level paraphrase:the bottom panels show...</td>\n",
       "    </tr>\n",
       "    <tr>\n",
       "      <th>4</th>\n",
       "      <td>it was shown that an even order symmetric tens...</td>\n",
       "      <td>Low level paraphrase:an even order symmetric t...</td>\n",
       "    </tr>\n",
       "  </tbody>\n",
       "</table>\n",
       "</div>"
      ],
      "text/plain": [
       "                                                 hyp  \\\n",
       "0    this discrepancy is indeed of is the order 50 .   \n",
       "1  the calculations were performed using density ...   \n",
       "2  the diameter is the maximum length of shortest...   \n",
       "3  the top panels show the scattering mean free p...   \n",
       "4  it was shown that an even order symmetric tens...   \n",
       "\n",
       "                                                 ref  \n",
       "0  High level paraphrase:so the discrepancy is th...  \n",
       "1  Medium level paraphrase:all calculations were ...  \n",
       "2  Medium level paraphrase:diameter is the averag...  \n",
       "3  Medium level paraphrase:the bottom panels show...  \n",
       "4  Low level paraphrase:an even order symmetric t...  "
      ]
     },
     "execution_count": 31,
     "metadata": {},
     "output_type": "execute_result"
    }
   ],
   "source": [
    "df.head()"
   ]
  },
  {
   "cell_type": "code",
   "execution_count": null,
   "id": "699b8813",
   "metadata": {},
   "outputs": [],
   "source": []
  }
 ],
 "metadata": {
  "kernelspec": {
   "display_name": "conda_python2",
   "language": "python",
   "name": "conda_python2"
  },
  "language_info": {
   "codemirror_mode": {
    "name": "ipython",
    "version": 2
   },
   "file_extension": ".py",
   "mimetype": "text/x-python",
   "name": "python",
   "nbconvert_exporter": "python",
   "pygments_lexer": "ipython2",
   "version": "2.7.16"
  }
 },
 "nbformat": 4,
 "nbformat_minor": 5
}
